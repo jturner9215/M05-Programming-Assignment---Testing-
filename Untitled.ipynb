{
 "cells": [
  {
   "cell_type": "code",
   "execution_count": 21,
   "id": "756fe893",
   "metadata": {},
   "outputs": [],
   "source": [
    "def sum(arg):\n",
    "    total = 0\n",
    "    for val in arg:\n",
    "        total += val\n",
    "    return total\n"
   ]
  },
  {
   "cell_type": "code",
   "execution_count": 22,
   "id": "c69c2613",
   "metadata": {},
   "outputs": [
    {
     "data": {
      "text/plain": [
       "'import unittest\\n\\nfrom my_sum import sum\\n\\n\\nclass TestSum(unittest.TestCase):\\n    def test_list_int(self):\\n        \"\"\"\\n        Test that it can sum a list of integers\\n        \"\"\"\\n        data = [1, 2, 3]\\n        result = sum(data)\\n        self.assertEqual(result, 6)\\n\\nif __name__ == \\'__main__\\':\\n    unittest.main()\\n'"
      ]
     },
     "execution_count": 22,
     "metadata": {},
     "output_type": "execute_result"
    }
   ],
   "source": [
    "'''import unittest\n",
    "\n",
    "from my_sum import sum\n",
    "\n",
    "\n",
    "class TestSum(unittest.TestCase):\n",
    "    def test_list_int(self):\n",
    "        \"\"\"\n",
    "        Test that it can sum a list of integers\n",
    "        \"\"\"\n",
    "        data = [1, 2, 3]\n",
    "        result = sum(data)\n",
    "        self.assertEqual(result, 6)\n",
    "\n",
    "if __name__ == '__main__':\n",
    "    unittest.main()\n",
    "'''"
   ]
  },
  {
   "cell_type": "code",
   "execution_count": 23,
   "id": "5f217ee7",
   "metadata": {
    "scrolled": true
   },
   "outputs": [
    {
     "data": {
      "text/plain": [
       "'from fractions import Fraction\\n\\nimport unittest\\n\\nfrom my_sum import sum\\n\\n\\nclass TestSum(unittest.TestCase):\\n    def test_list_int(self):\\n        \"\"\"\\n        Test that it can sum a list of integers\\n        \"\"\"\\n        data = [1, 2, 3]\\n        result = sum(data)\\n        self.assertEqual(result, 6)\\n\\n    def test_list_fraction(self):\\n        \"\"\"\\n        Test that it can sum a list of fractions\\n        \"\"\"\\n        data = [Fraction(1, 4), Fraction(1, 4), Fraction(2, 5)]\\n        result = sum(data)\\n        self.assertEqual(result, 1)\\n\\nif __name__ == \\'__main__\\':\\n    unittest.main()\\n'"
      ]
     },
     "execution_count": 23,
     "metadata": {},
     "output_type": "execute_result"
    }
   ],
   "source": [
    "'''from fractions import Fraction\n",
    "\n",
    "import unittest\n",
    "\n",
    "from my_sum import sum\n",
    "\n",
    "\n",
    "class TestSum(unittest.TestCase):\n",
    "    def test_list_int(self):\n",
    "        \"\"\"\n",
    "        Test that it can sum a list of integers\n",
    "        \"\"\"\n",
    "        data = [1, 2, 3]\n",
    "        result = sum(data)\n",
    "        self.assertEqual(result, 6)\n",
    "\n",
    "    def test_list_fraction(self):\n",
    "        \"\"\"\n",
    "        Test that it can sum a list of fractions\n",
    "        \"\"\"\n",
    "        data = [Fraction(1, 4), Fraction(1, 4), Fraction(2, 5)]\n",
    "        result = sum(data)\n",
    "        self.assertEqual(result, 1)\n",
    "\n",
    "if __name__ == '__main__':\n",
    "    unittest.main()\n",
    "'''"
   ]
  },
  {
   "cell_type": "code",
   "execution_count": 24,
   "id": "210ef768",
   "metadata": {},
   "outputs": [
    {
     "data": {
      "text/plain": [
       "'import unittest\\n\\nfrom my_sum import sum\\n\\n\\nclass TestSum(unittest.TestCase):\\n    def test_list_int(self):\\n        \"\"\"\\n        Test that it can sum a list of integers\\n        \"\"\"\\n        data = [1, 2, 3]\\n        result = sum(data)\\n        self.assertEqual(result, 6)\\n\\n    def test_list_fraction(self):\\n        \"\"\"\\n        Test that it can sum a list of fractions\\n        \"\"\"\\n        data = [Fraction(1, 4), Fraction(1, 4), Fraction(2, 5)]\\n        result = sum(data)\\n        self.assertEqual(result, 1)\\n\\n    def test_bad_type(self):\\n        data = \"banana\"\\n        with self.assertRaises(TypeError):\\n            result = sum(data)\\n\\nif __name__ == \\'__main__\\':\\n    unittest.main()\\n'"
      ]
     },
     "execution_count": 24,
     "metadata": {},
     "output_type": "execute_result"
    }
   ],
   "source": [
    "'''import unittest\n",
    "\n",
    "from my_sum import sum\n",
    "\n",
    "\n",
    "class TestSum(unittest.TestCase):\n",
    "    def test_list_int(self):\n",
    "        \"\"\"\n",
    "        Test that it can sum a list of integers\n",
    "        \"\"\"\n",
    "        data = [1, 2, 3]\n",
    "        result = sum(data)\n",
    "        self.assertEqual(result, 6)\n",
    "\n",
    "    def test_list_fraction(self):\n",
    "        \"\"\"\n",
    "        Test that it can sum a list of fractions\n",
    "        \"\"\"\n",
    "        data = [Fraction(1, 4), Fraction(1, 4), Fraction(2, 5)]\n",
    "        result = sum(data)\n",
    "        self.assertEqual(result, 1)\n",
    "\n",
    "    def test_bad_type(self):\n",
    "        data = \"banana\"\n",
    "        with self.assertRaises(TypeError):\n",
    "            result = sum(data)\n",
    "\n",
    "if __name__ == '__main__':\n",
    "    unittest.main()\n",
    "'''"
   ]
  },
  {
   "cell_type": "code",
   "execution_count": 25,
   "id": "a36202e5",
   "metadata": {},
   "outputs": [
    {
     "data": {
      "text/plain": [
       "'import unittest\\n\\n\\nclass TestBasic(unittest.TestCase):\\n    def setUp(self):\\n        # Load test data\\n        self.app = App(database=\\'fixtures/test_basic.json\\')\\n\\n    def test_customer_count(self):\\n        self.assertEqual(len(self.app.customers), 100)\\n\\n    def test_existence_of_customer(self):\\n        customer = self.app.get_customer(id=10)\\n        self.assertEqual(customer.name, \"Org XYZ\")\\n        self.assertEqual(customer.address, \"10 Red Road, Reading\")\\n\\n\\nclass TestComplexData(unittest.TestCase):\\n    def setUp(self):\\n        # load test data\\n        self.app = App(database=\\'fixtures/test_complex.json\\')\\n\\n    def test_customer_count(self):\\n        self.assertEqual(len(self.app.customers), 10000)\\n\\n    def test_existence_of_customer(self):\\n        customer = self.app.get_customer(id=9999)\\n        self.assertEqual(customer.name, u\"バナナ\")\\n        self.assertEqual(customer.address, \"10 Red Road, Akihabara, Tokyo\")\\n\\nif __name__ == \\'__main__\\':\\n    unittest.main()\\n'"
      ]
     },
     "execution_count": 25,
     "metadata": {},
     "output_type": "execute_result"
    }
   ],
   "source": [
    "'''import unittest\n",
    "\n",
    "\n",
    "class TestBasic(unittest.TestCase):\n",
    "    def setUp(self):\n",
    "        # Load test data\n",
    "        self.app = App(database='fixtures/test_basic.json')\n",
    "\n",
    "    def test_customer_count(self):\n",
    "        self.assertEqual(len(self.app.customers), 100)\n",
    "\n",
    "    def test_existence_of_customer(self):\n",
    "        customer = self.app.get_customer(id=10)\n",
    "        self.assertEqual(customer.name, \"Org XYZ\")\n",
    "        self.assertEqual(customer.address, \"10 Red Road, Reading\")\n",
    "\n",
    "\n",
    "class TestComplexData(unittest.TestCase):\n",
    "    def setUp(self):\n",
    "        # load test data\n",
    "        self.app = App(database='fixtures/test_complex.json')\n",
    "\n",
    "    def test_customer_count(self):\n",
    "        self.assertEqual(len(self.app.customers), 10000)\n",
    "\n",
    "    def test_existence_of_customer(self):\n",
    "        customer = self.app.get_customer(id=9999)\n",
    "        self.assertEqual(customer.name, u\"バナナ\")\n",
    "        self.assertEqual(customer.address, \"10 Red Road, Akihabara, Tokyo\")\n",
    "\n",
    "if __name__ == '__main__':\n",
    "    unittest.main()\n",
    "'''"
   ]
  },
  {
   "cell_type": "code",
   "execution_count": null,
   "id": "e9089338",
   "metadata": {},
   "outputs": [],
   "source": []
  },
  {
   "cell_type": "code",
   "execution_count": null,
   "id": "e65d7614",
   "metadata": {},
   "outputs": [],
   "source": []
  },
  {
   "cell_type": "code",
   "execution_count": null,
   "id": "61fb8367",
   "metadata": {},
   "outputs": [],
   "source": []
  },
  {
   "cell_type": "code",
   "execution_count": null,
   "id": "8caad6a9",
   "metadata": {},
   "outputs": [],
   "source": []
  },
  {
   "cell_type": "code",
   "execution_count": null,
   "id": "d1446fcd",
   "metadata": {},
   "outputs": [],
   "source": []
  },
  {
   "cell_type": "code",
   "execution_count": null,
   "id": "fb349aa8",
   "metadata": {},
   "outputs": [],
   "source": []
  },
  {
   "cell_type": "code",
   "execution_count": null,
   "id": "53fcf608",
   "metadata": {},
   "outputs": [],
   "source": []
  }
 ],
 "metadata": {
  "kernelspec": {
   "display_name": "Python 3 (ipykernel)",
   "language": "python",
   "name": "python3"
  },
  "language_info": {
   "codemirror_mode": {
    "name": "ipython",
    "version": 3
   },
   "file_extension": ".py",
   "mimetype": "text/x-python",
   "name": "python",
   "nbconvert_exporter": "python",
   "pygments_lexer": "ipython3",
   "version": "3.10.9"
  }
 },
 "nbformat": 4,
 "nbformat_minor": 5
}
